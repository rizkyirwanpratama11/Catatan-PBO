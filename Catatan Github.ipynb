{
 "cells": [
  {
   "cell_type": "markdown",
   "metadata": {},
   "source": [
    "# Class vs Object"
   ]
  },
  {
   "cell_type": "markdown",
   "metadata": {},
   "source": [
    "Class adalah sebuah kerangka yang berisi method dan property untuk membentuk sebuah object.\n",
    "\n",
    "Object adalah representasi nyata dari class itu sendiri\n",
    "\n",
    "<img src=\"baru/1.JPG\">\n",
    "\n",
    "\n"
   ]
  },
  {
   "cell_type": "code",
   "execution_count": 1,
   "metadata": {},
   "outputs": [
    {
     "name": "stdout",
     "output_type": "stream",
     "text": [
      "2\n",
      "Luas=  4\n",
      "Luas permukaan : 24\n",
      "volume : 8\n"
     ]
    }
   ],
   "source": [
    "#Contoh Program :\n",
    "class Kubus:\n",
    "    def __init__(self,s):\n",
    "        self.sisi = s\n",
    "    def tampilkansisi(self):\n",
    "        print(self.sisi)\n",
    "        \n",
    "    def luas(self):\n",
    "        print(\"Luas= \",self.sisi**2)\n",
    "    def luaspermukaan(self):\n",
    "        print(\"Luas permukaan :\",self.sisi**2*6)\n",
    "    def volume(self):\n",
    "        print(\"volume :\",self.sisi**3)\n",
    "        \n",
    "kubus1 = Kubus(2)\n",
    "kubus1.tampilkansisi()\n",
    "kubus1.luas()\n",
    "kubus1.luaspermukaan()\n",
    "kubus1.volume()"
   ]
  },
  {
   "cell_type": "code",
   "execution_count": 2,
   "metadata": {},
   "outputs": [
    {
     "name": "stdout",
     "output_type": "stream",
     "text": [
      "Nama : Irwan\n",
      "Nomer: 123456789\n",
      "Umur: 19 \n",
      "\n"
     ]
    }
   ],
   "source": [
    "from datetime import datetime\n",
    "sekarang = datetime.now()\n",
    "tahun = sekarang.year\n",
    "bulan = sekarang.month\n",
    "hari = sekarang.day\n",
    "\n",
    "class Pegawai:\n",
    "    def __init__(self,no,n,tl,bl,th):\n",
    "        self.nomer = no\n",
    "        self.nama = n\n",
    "        self.tanggallahir = tl\n",
    "        self.bulanlahir = bl\n",
    "        self.tahunlahir = th\n",
    "    def menghitungumur(self):\n",
    "        self.umur = tahun - self.tahunlahir\n",
    "        if(self.bulanlahir == bulan):\n",
    "            if(self.tanggallahir > hari):\n",
    "                self.umur = self.umur - 1\n",
    "        elif(self.bulanlahir > bulan) :\n",
    "            self.umur = self.umur - 1\n",
    "            \n",
    "    def tampilkanhasil(self):\n",
    "        print(\"Nama :\",self.nama)\n",
    "        print(\"Nomer:\",self.nomer)\n",
    "        print(\"Umur:\",self.umur,\"\\n\")\n",
    "\n",
    "p1 = Pegawai(\"123456789\",\"Irwan\",24,2,2000)\n",
    "p1.menghitungumur()\n",
    "p1.tampilkanhasil()"
   ]
  },
  {
   "cell_type": "code",
   "execution_count": 6,
   "metadata": {},
   "outputs": [
    {
     "name": "stdout",
     "output_type": "stream",
     "text": [
      "Rizky Irwan Pratama tidak mendapatkan bidikmisi\n",
      "Rizky Irwan Pratama , 180441100073 , 2.0\n"
     ]
    }
   ],
   "source": [
    "class Mahasiswa:\n",
    "    def __init__(self,nama,nim,ipk):\n",
    "        self.nama = nama\n",
    "        self.nim = nim\n",
    "        self.ipk = ipk\n",
    "    def tampilkan(self):\n",
    "        if(self.ipk<3):\n",
    "            print(self.nama,\"tidak mendapatkan bidikmisi\")\n",
    "        else:\n",
    "            print(\"Anda layak Bidikmisi\")\n",
    "    def tampilkandatamahasiswa(self):\n",
    "        print(self.nama,\",\",self.nim,\",\",self.ipk)\n",
    "        \n",
    "m1 = Mahasiswa(\"Rizky Irwan Pratama\",\"180441100073\",2.00)\n",
    "m1.tampilkan()\n",
    "m1.tampilkandatamahasiswa()"
   ]
  },
  {
   "cell_type": "markdown",
   "metadata": {},
   "source": [
    "# Inheritance"
   ]
  },
  {
   "cell_type": "markdown",
   "metadata": {},
   "source": [
    "Inheritance adalah konsep pemrograman sebuah class yang dapat 'menurunkan' property dan method yang dimilikinya kepada class lain.\n",
    "Class induk mewariskan kepada kelas anak.\n",
    "Semua class induk dapat diwariskan ke class anaknya.\n",
    "\n",
    "<img src=\"baru/2.PNG\">\n"
   ]
  },
  {
   "cell_type": "code",
   "execution_count": 8,
   "metadata": {},
   "outputs": [
    {
     "name": "stdout",
     "output_type": "stream",
     "text": [
      "name =irwan\n",
      "name =diki\n",
      "Programmer Python\n"
     ]
    }
   ],
   "source": [
    "#Contoh Program :\n",
    "class User:\n",
    "        name = \"\"\n",
    "        def __init__(self,name):\n",
    "            self.name = name\n",
    "        def printName(self) :\n",
    "            print(\"name =\" + self.name)            \n",
    "class Programmer(User):\n",
    "        def __init__(self,name):\n",
    "            self.name = name\n",
    "        def doPython(self):\n",
    "            print(\"Programmer Python\")\n",
    "irwan = User(\"irwan\")\n",
    "irwan.printName()\n",
    "diki = Programmer(\"diki\")\n",
    "diki.printName()\n",
    "diki.doPython()"
   ]
  },
  {
   "cell_type": "markdown",
   "metadata": {},
   "source": [
    "# Type of Inheritance"
   ]
  },
  {
   "cell_type": "markdown",
   "metadata": {},
   "source": [
    "Di dalam type inheritance ada beberapa type seperti : \n",
    "1. Default \n",
    "2. Overriding \n",
    "3. Super \n",
    "4. Multiple inheritance"
   ]
  },
  {
   "cell_type": "code",
   "execution_count": 16,
   "metadata": {},
   "outputs": [
    {
     "name": "stdout",
     "output_type": "stream",
     "text": [
      "Terryfish\n",
      "bone\n",
      "false\n",
      "The fish is swimming\n",
      "The fish can swim backwards\n",
      "caseyfish\n",
      "The fish is swimming\n",
      "The clownfish is coexisting with sea anemone\n"
     ]
    }
   ],
   "source": [
    "class fish:\n",
    "    def __init__(self,first_name,last_name=\"fish\",skeleton=\"bone\",eyelids=\"false\"):\n",
    "        self.first_name = first_name\n",
    "        self.last_name = last_name\n",
    "        self.skeleton = skeleton\n",
    "        self.eyelids = eyelids\n",
    "    def swim(self):\n",
    "        print(\"The fish is swimming\")\n",
    "    def swim_backwards(self):\n",
    "        print(\"The fish can swim backwards\")\n",
    "\n",
    "#default yaitu semua atribut class induk diwariskan\n",
    "class trout(fish):\n",
    "    pass\n",
    "class clownfish(fish):\n",
    "    def live_with_anemone(self):\n",
    "        print(\"The clownfish is coexisting with sea anemone\")\n",
    "class trout(fish) :\n",
    "    pass\n",
    "\n",
    "#override property: isi dari metod dan property diganti nilainya\n",
    "class Shark(fish):\n",
    "    def __init__(self,first_name,last_name=\"Shark\",skeleton=\"cartilage\",eyelids=\"true\"):\n",
    "        self.first_name = first_name\n",
    "        self.last_name = last_name\n",
    "        self.skeleton = skeleton\n",
    "        self.eyelids = eyelids\n",
    "    def swim_backwards(self):\n",
    "        print(\"The Shark cannot swim backwards,but can simk backwards\")\n",
    "        \n",
    "#super property yaitu menambahkan atribut yang unik pada class anak dan method lainnya sama seperti induk\n",
    "class Trout(fish):\n",
    "    def __init__(self,water,first_name,last_name,skeleton,eyelids):\n",
    "        self.water=water\n",
    "        fish.__init__(self,first_name,last_name,skeleton,eyelids)\n",
    "terry=Trout(\"freshwater\",\"shark\",\"fish\",\"no bone\",\"true\")\n",
    "terry = trout(\"Terry\")\n",
    "print(terry.first_name +\"\"+terry.last_name)\n",
    "print(terry.skeleton)\n",
    "print(terry.eyelids)\n",
    "terry.swim()\n",
    "terry.swim_backwards()\n",
    "casey = clownfish(\"casey\")\n",
    "print(casey.first_name + \"\" + casey.last_name)\n",
    "casey.swim()\n",
    "casey.live_with_anemone()"
   ]
  },
  {
   "cell_type": "code",
   "execution_count": 17,
   "metadata": {},
   "outputs": [
    {
     "name": "stdout",
     "output_type": "stream",
     "text": [
      "Coral lives in a community\n",
      "The anemone is protecting the clownfish\n"
     ]
    }
   ],
   "source": [
    "#Multiple Inherintance\n",
    "class Coral:\n",
    "    def community(self):\n",
    "        print(\"Coral lives in a community\")\n",
    "class Anemone:\n",
    "    def protect_clownfish(self):\n",
    "        print(\"The anemone is protecting the clownfish\")\n",
    "class CoralReef(Coral,Anemone):\n",
    "    pass\n",
    "great_barrier= CoralReef()\n",
    "great_barrier.community()\n",
    "great_barrier.protect_clownfish()"
   ]
  },
  {
   "cell_type": "markdown",
   "metadata": {},
   "source": [
    "# Polymorphisme"
   ]
  },
  {
   "cell_type": "markdown",
   "metadata": {},
   "source": [
    "Polymorphisme adalah suatu object dapat memiliki berbagai bentuk, sebagai object dari class sendiri atau object dari superclassnya. Ada 2 polymorphisme, yaitu :\n",
    "\n",
    "1. Polymorphisme with a Function\n",
    "2. Polymorphisme with Class Methods\n",
    "<img src=\"baru/3.PNG\">\n"
   ]
  },
  {
   "cell_type": "code",
   "execution_count": 29,
   "metadata": {},
   "outputs": [
    {
     "name": "stdout",
     "output_type": "stream",
     "text": [
      "the shark skelaton is mode of cartilago\n",
      "the clowfish skelaton is mode of bone\n",
      "the shark is swimming\n",
      "the clown fish is swimming\n"
     ]
    }
   ],
   "source": [
    "#Contoh Program :\n",
    "\n",
    "#1. Polymorphisme with a Function\n",
    "\n",
    "class shark():\n",
    "    def swim(self):\n",
    "        print(\"the shark is swimming\")\n",
    "    def swim_backwards(self):\n",
    "        print(\"the shark cannot swim backwars,but can sink backward\")\n",
    "    def skalaton(self):\n",
    "        print(\"the shark skelaton is mode of cartilago\")\n",
    "\n",
    "class clownfish():\n",
    "    def swim(self):\n",
    "        print(\"the clown fish is swimming\")\n",
    "    def swim_backwards(self):\n",
    "        print(\"the clowfish can swim backwars,but can sink backward\")\n",
    "    def skalaton(self):\n",
    "        print(\"the clowfish skelaton is mode of bone\")\n",
    "abc=shark()\n",
    "abc.skalaton()\n",
    "\n",
    "easy=clownfish()\n",
    "easy.skalaton()\n",
    "\n",
    "def in_the_pacific(fish):\n",
    "    fish.swim()\n",
    "\n",
    "in_the_pacific(abc)\n",
    "in_the_pacific(easy)"
   ]
  },
  {
   "cell_type": "code",
   "execution_count": 28,
   "metadata": {},
   "outputs": [
    {
     "name": "stdout",
     "output_type": "stream",
     "text": [
      "the clamfish skelaton is mode of bone\n",
      "the shark is swimming\n",
      "the shark cannot swim backwars,but can sink backward\n",
      "the shark skelaton is mode of cartilago\n",
      "the clown fish is swimming\n",
      "the clownfish can swim backwars,but can sink backward\n",
      "the clownfish skelaton is mode of bone\n"
     ]
    }
   ],
   "source": [
    "#2. Polymorphisme with Class Methods\n",
    "\n",
    "class shark():\n",
    "    def swim(self):\n",
    "        print(\"the shark is swimming\")\n",
    "    def swim_backwards(self):\n",
    "        print(\"the shark cannot swim backwars,but can sink backward\")\n",
    "    def skeleton(self):\n",
    "        print(\"the shark skelaton is mode of cartilago\")\n",
    "\n",
    "class clownfish():\n",
    "    def swim(self):\n",
    "        print(\"the clown fish is swimming\")\n",
    "    def swim_backwards(self):\n",
    "        print(\"the clownfish can swim backwars,but can sink backward\")\n",
    "    def skeleton(self):\n",
    "        print(\"the clownfish skelaton is mode of bone\")\n",
    "sammy=shark()\n",
    "casey=clownfish()\n",
    "\n",
    "easy=clamfish()\n",
    "easy.skalaton()\n",
    "for fish in (sammy,casey):\n",
    "    fish.swim()\n",
    "    fish.swim_backwards()\n",
    "    fish.skeleton()"
   ]
  },
  {
   "cell_type": "markdown",
   "metadata": {},
   "source": [
    "# Operator and Method Overloading"
   ]
  },
  {
   "cell_type": "markdown",
   "metadata": {},
   "source": [
    "METHOD OVERLOADING\n",
    "    \n",
    "   Method Overloading adalah sebuah kemampuan yang membolehkan sebuah class mempunyai 2 atau lebih method dengan nama yang sama, yang membedakan adalah parameternya.\n",
    "Pada method overloading perbedaan parameter mencakup :\n",
    "    1. Jumlah parameter\n",
    "    2. Tipe data dari parameter\n",
    "    3. Urutan dari tipe data parameter\n",
    "\n",
    "Method Overloading juga dikenal dengan sebutan Static Polymorphism. \n",
    "\n",
    "<img src=\"baru/4.png\">\n",
    "\n",
    "OPERATOR OVERLOADING\n",
    "\n",
    "\n",
    "   Operator overloading, kadang-kadang disebut polimorfisme ad hoc operator, adalah kasus khusus polimorfisme, di mana operator yang berbeda memiliki implementasi yang berbeda tergantung pada argumen mereka. Overloading operator umumnya ditentukan oleh bahasa pemrograman, programmer, atau keduanya.\n",
    "\n",
    "Operator Overloading memungkinkan Anda mendefinisikan kembali makna operator\n",
    "Operator untuk menambahkan dua objek angka, serta dua objek string. karena + operator kelebihan beban oleh kelas int dan str. In [ ]:\n",
    "<img src=\"baru/5.png\">"
   ]
  },
  {
   "cell_type": "code",
   "execution_count": 2,
   "metadata": {},
   "outputs": [
    {
     "name": "stdout",
     "output_type": "stream",
     "text": [
      "Hello\n",
      "HelloGuido\n"
     ]
    }
   ],
   "source": [
    "class Human:\n",
    "    def sayHello(self,name=None):\n",
    "        if name is not None:\n",
    "            print('Hello'+name)\n",
    "        else:\n",
    "            print('Hello')\n",
    "# Create instance\n",
    "obj = Human()\n",
    "\n",
    "# Call the method\n",
    "obj.sayHello()\n",
    "\n",
    "# Call the method with a parameter\n",
    "obj.sayHello('Guido')"
   ]
  },
  {
   "cell_type": "code",
   "execution_count": 3,
   "metadata": {},
   "outputs": [
    {
     "name": "stdout",
     "output_type": "stream",
     "text": [
      "Point object is at:(3,1)\n",
      "Point object is at:(1,5)\n"
     ]
    }
   ],
   "source": [
    "class Point:\n",
    "    def __init__(self, x=0 , y=0):\n",
    "        self.x = x\n",
    "        self.y = y\n",
    "    #def __str__(self):\n",
    "        #return \"({0},{1})\".format(self.x,self.y)\n",
    "    def __str__(self):\n",
    "        return \"Point object is at:(\"+str(self.x)+\",\"+str(self.y)+\")\"\n",
    "    def __sub__(self,other):\n",
    "        x = self.x - other.x\n",
    "        y = self.y - other.y\n",
    "        return Point(x,y)\n",
    "    def __add__(self,other):\n",
    "        x = self.x + other.x\n",
    "        y = self.y + other.y\n",
    "        return Point(x,y)\n",
    "    \n",
    "p1 = Point(2,3)\n",
    "p2 = Point(-1,2)\n",
    "print(p1-p2)\n",
    "print(p1+p2)"
   ]
  },
  {
   "cell_type": "code",
   "execution_count": 4,
   "metadata": {},
   "outputs": [
    {
     "name": "stdout",
     "output_type": "stream",
     "text": [
      "2/4\n",
      "hasil tambah pecaha : 6/8\n",
      "hasil kurang pecahan : -2/8\n",
      "hasil bagi pecahan : 2/4\n",
      "hasil kali pecahan : 1/8\n"
     ]
    }
   ],
   "source": [
    "class Fraction:\n",
    "    def __init__(self,top,bottom):\n",
    "        self.atas = top\n",
    "        self.bawah = bottom\n",
    "    \n",
    "    #def show(self):\n",
    "        #print(self.num,\"/\",self.den)\n",
    "        \n",
    "    def __str__(self):\n",
    "        return str(self.atas)+\"/\"+str(self.bawah)\n",
    "\n",
    "\n",
    "    def __add__(self,other):\n",
    "        newatas = self.atas * other.bawah + self.bawah * other.atas\n",
    "        newbawah = self.bawah * other.bawah\n",
    "        return Fraction(newatas,newbawah)\n",
    "    \n",
    "    def __sub__(self,other):\n",
    "        newatas = self.atas * other.bawah- self.bawah * other.atas\n",
    "        newbawah = self.bawah* other.bawah\n",
    "        return Fraction(newatas,newbawah)\n",
    "    \n",
    "    def __truediv__(self,other):\n",
    "        newatas = self.atas* other.bawah\n",
    "        newbawah = self.bawah * other.atas\n",
    "        return Fraction(newatas,newbawah)\n",
    "\n",
    "    def __mul__(self, other):\n",
    "        newatas = self.atas * other.atas\n",
    "        newbawah = self.bawah * other.bawah\n",
    "        return Fraction(newatas,newbawah)\n",
    "    \n",
    "f=Fraction(2,4)\n",
    "#Show(f)\n",
    "print(f)\n",
    "\n",
    "f1 = Fraction(1,4)\n",
    "f2 = Fraction(1,2)\n",
    "print(\"hasil tambah pecaha :\",f1+f2)\n",
    "print(\"hasil kurang pecahan :\",f1-f2)\n",
    "print(\"hasil bagi pecahan :\",f1/f2)\n",
    "print(\"hasil kali pecahan :\",f1*f2)"
   ]
  },
  {
   "cell_type": "markdown",
   "metadata": {},
   "source": [
    "# Encapsulation"
   ]
  },
  {
   "cell_type": "markdown",
   "metadata": {},
   "source": [
    "Encapsulation adalah proses pemaketan data bersama metode-metodenya dimana hal ini bermanfaat untuk menyembeunyikan rincian-rincian implementasi dari pemakai. Dalam sebuah objek yang mengandung variabel-variabel dan method-method, dapat ditentukan hak akses pada sebuah variabel atau method dari objek. Pembungkusan variabel dan method dalam sebuah objek dalam bagian yang terlindungi inilah yang disebut dengan enkapsulasi.\n",
    "\n",
    "Bagian eksternal dari sebuah objek sering disebut sebagai interface atau antarmuka terhadap objek lain. Karena objek lain harus berkomunikasi dengan obejk itu hanya melalui antarmuka maka bagian internal objek dapat dilindungi dari gangguan luar. Karena program luar tidak mengakses implementasi internal objek, maka implementasi internal dapat berubah tanpa mempengaruhi bagian-bagian program lain.Encapsulation adalah proses pemaketan data bersama metode-metodenya dimana hal ini bermanfaat untuk menyembeunyikan rincian-rincian implementasi dari pemakai. Dalam sebuah objek yang mengandung variabel-variabel dan method-method, dapat ditentukan hak akses pada sebuah variabel atau method dari objek. Pembungkusan variabel dan method dalam sebuah objek dalam bagian yang terlindungi inilah yang disebut dengan enkapsulasi.\n",
    "\n",
    "<img src=\"baru/6.png\">"
   ]
  },
  {
   "cell_type": "code",
   "execution_count": 5,
   "metadata": {},
   "outputs": [
    {
     "name": "stdout",
     "output_type": "stream",
     "text": [
      "22\n",
      "23\n",
      "23\n"
     ]
    }
   ],
   "source": [
    "class robot(object):\n",
    "    def __init__(self):\n",
    "        self.__version=22\n",
    "    def getversion(self):\n",
    "        print(self.__version)\n",
    "    def setversion(self,version):\n",
    "        self.__version=version\n",
    "obj=robot()\n",
    "obj.getversion()\n",
    "obj.setversion(23)\n",
    "obj.getversion()\n",
    "#print(obj.__version) salah karena tdk ada pemanggilan classs\n",
    "print(obj._robot__version)"
   ]
  },
  {
   "cell_type": "code",
   "execution_count": 6,
   "metadata": {},
   "outputs": [
    {
     "name": "stdout",
     "output_type": "stream",
     "text": [
      "This is a public method\n",
      "This is a private method\n",
      "This is another private method\n"
     ]
    }
   ],
   "source": [
    "class A(object):\n",
    "    #public method\n",
    "    def myPublicMethod(self):\n",
    "        return \"This is a public method\"\n",
    "    #private method with single underscore\n",
    "    def _myPrivateMethod(self):\n",
    "        return \"This is a private method\"\n",
    "    #private method with double underscore\n",
    "    def __myAnotherPrivateMethod(self):\n",
    "        return \"This is another private method\"\n",
    "#nama objek\n",
    "obj1 = A()\n",
    "#we can access the public mehod which is cool\n",
    "print(obj1.myPublicMethod())\n",
    "#Note that we can also access the private method from outside\n",
    "print(obj1._myPrivateMethod())\n",
    "print(obj1._A__myAnotherPrivateMethod())"
   ]
  },
  {
   "cell_type": "code",
   "execution_count": 7,
   "metadata": {},
   "outputs": [
    {
     "name": "stdout",
     "output_type": "stream",
     "text": [
      "driving. maxspeed : 200\n",
      "driving. maxspeed : 10\n"
     ]
    }
   ],
   "source": [
    "class Car:\n",
    " \n",
    "    __maxspeed = 0\n",
    "    __name = \"\"\n",
    " \n",
    "    def __init__(self):\n",
    "        self.__maxspeed = 200\n",
    "        self.__name = \"Supercar\"\n",
    " \n",
    "    def drive(self):\n",
    "        print (\"driving. maxspeed : \" + str(self.__maxspeed))\n",
    " \n",
    "redcar = Car()\n",
    "redcar.drive()\n",
    "redcar.__maxspeed = 10  # will not change variable because its private\n",
    "redcar._Car__maxspeed=10 #cara mengubah variabel private\n",
    "redcar.drive()"
   ]
  },
  {
   "cell_type": "code",
   "execution_count": 8,
   "metadata": {},
   "outputs": [
    {
     "name": "stdout",
     "output_type": "stream",
     "text": [
      "updating software\n",
      "driving\n"
     ]
    }
   ],
   "source": [
    "class Car:\n",
    " \n",
    "    def __init__(self):\n",
    "        self.__updateSoftware()\n",
    "\n",
    "    def drive(self):\n",
    "        print ('driving')\n",
    "\n",
    "    def __updateSoftware(self):\n",
    "        print ('updating software')\n",
    " \n",
    "redcar = Car()\n",
    "redcar.drive()\n",
    "#redcar.__updateSoftware()  not accesible from object."
   ]
  },
  {
   "cell_type": "code",
   "execution_count": 9,
   "metadata": {},
   "outputs": [
    {
     "name": "stdout",
     "output_type": "stream",
     "text": [
      "Nama: Segitiga Sama Sisi\n",
      "Panjang: 5\n",
      "Sisi: 75\n",
      "Nama: Persegi Panjang\n",
      "Panjang: 10\n",
      "Lebar: 15\n",
      "Nama: Lingkaran besar\n",
      "Jari-jari: 21\n"
     ]
    }
   ],
   "source": [
    "class Shape(object):\n",
    "    __nama = 0\n",
    "    def getNama(self):\n",
    "        print (\"Nama:\",self.__nama)\n",
    "    def setNama(self,nama):\n",
    "        self.__nama = nama\n",
    "    \n",
    "class Rectangle(Shape):\n",
    "    __panjang = 0\n",
    "    __lebar = 0\n",
    "    def getPanjangdanLebar(self):\n",
    "        print (\"Panjang:\",self.__panjang)\n",
    "        print (\"Lebar:\",self.__lebar)\n",
    "    def setPanjangdanLebar(self,panjang,lebar):\n",
    "        self.__panjang = panjang\n",
    "        self.__lebar = lebar\n",
    "\n",
    "class Circle(Shape):\n",
    "    __jari2 = 0\n",
    "    def getJari2(self):\n",
    "        print (\"Jari-jari:\",self.__jari2)\n",
    "    def setJari2(self,jari2):\n",
    "        self.__jari2 = jari2\n",
    "\n",
    "class Triangle(Shape):\n",
    "    __panjang = 0\n",
    "    __sisi = 0\n",
    "    def getPanjangdanSisi(self):\n",
    "        print (\"Panjang:\",self.__panjang)\n",
    "        print (\"Sisi:\",self.__sisi)\n",
    "    def setPanjangdanSisi(self,panjang,sisi):\n",
    "        self.__panjang = panjang\n",
    "        self.__sisi = sisi\n",
    "\n",
    "Segitiga = Triangle()\n",
    "Segitiga.setNama (\"Segitiga Sama Sisi\")\n",
    "Segitiga.setPanjangdanSisi(5,75)\n",
    "Segitiga.getNama ()\n",
    "Segitiga.getPanjangdanSisi ()\n",
    "\n",
    "Persegipanjang = Rectangle ()\n",
    "Persegipanjang.setNama (\"Persegi Panjang\")\n",
    "Persegipanjang.setPanjangdanLebar (10,15)\n",
    "Persegipanjang.getNama ()\n",
    "Persegipanjang.getPanjangdanLebar ()\n",
    "\n",
    "Lingkaran = Circle ()\n",
    "Lingkaran.setNama (\"Lingkaran besar\")\n",
    "Lingkaran.setJari2 (21)\n",
    "Lingkaran.getNama ()\n",
    "Lingkaran.getJari2 ()"
   ]
  },
  {
   "cell_type": "code",
   "execution_count": 10,
   "metadata": {},
   "outputs": [
    {
     "name": "stdout",
     "output_type": "stream",
     "text": [
      "(58, 10)\n",
      "(46, -4)\n"
     ]
    }
   ],
   "source": [
    "class bilangan:\n",
    "    def __init__(self,a,b):\n",
    "        self.a=a\n",
    "        self.b=b\n",
    "    def __add__(self,other):\n",
    "        return self.a+other.a,self.b+other.b\n",
    "    def __sub__(self,other):\n",
    "        return self.a-other.a,self.b-other.b\n",
    "    def __str__(self):\n",
    "        return self.a,self.b\n",
    "o1=bilangan(52,3)\n",
    "o2=bilangan(6,7)\n",
    "o3=o1+o2\n",
    "o4=o1-o2\n",
    "print (o3)\n",
    "print (o4)"
   ]
  }
 ],
 "metadata": {
  "kernelspec": {
   "display_name": "Python 3",
   "language": "python",
   "name": "python3"
  },
  "language_info": {
   "codemirror_mode": {
    "name": "ipython",
    "version": 3
   },
   "file_extension": ".py",
   "mimetype": "text/x-python",
   "name": "python",
   "nbconvert_exporter": "python",
   "pygments_lexer": "ipython3",
   "version": "3.7.1"
  }
 },
 "nbformat": 4,
 "nbformat_minor": 2
}
