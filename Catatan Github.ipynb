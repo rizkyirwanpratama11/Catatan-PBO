{
 "cells": [
  {
   "cell_type": "markdown",
   "metadata": {},
   "source": [
    "# Class vs Object"
   ]
  },
  {
   "attachments": {},
   "cell_type": "markdown",
   "metadata": {},
   "source": [
    "Class adalah sebuah kerangka yang berisi method dan property untuk membentuk sebuah object.\n",
    "\n",
    "Object adalah representasi nyata dari class itu sendiri\n",
    "\n",
    "<img scr=\"baru/1.jpg\">\n",
    "\n",
    "\n"
   ]
  },
  {
   "cell_type": "code",
   "execution_count": 1,
   "metadata": {},
   "outputs": [
    {
     "name": "stdout",
     "output_type": "stream",
     "text": [
      "2\n",
      "Luas=  4\n",
      "Luas permukaan : 24\n",
      "volume : 8\n"
     ]
    }
   ],
   "source": [
    "#Contoh Program :\n",
    "class Kubus:\n",
    "    def __init__(self,s):\n",
    "        self.sisi = s\n",
    "    def tampilkansisi(self):\n",
    "        print(self.sisi)\n",
    "        \n",
    "    def luas(self):\n",
    "        print(\"Luas= \",self.sisi**2)\n",
    "    def luaspermukaan(self):\n",
    "        print(\"Luas permukaan :\",self.sisi**2*6)\n",
    "    def volume(self):\n",
    "        print(\"volume :\",self.sisi**3)\n",
    "        \n",
    "kubus1 = Kubus(2)\n",
    "kubus1.tampilkansisi()\n",
    "kubus1.luas()\n",
    "kubus1.luaspermukaan()\n",
    "kubus1.volume()"
   ]
  },
  {
   "cell_type": "code",
   "execution_count": 2,
   "metadata": {},
   "outputs": [
    {
     "name": "stdout",
     "output_type": "stream",
     "text": [
      "Nama : Irwan\n",
      "Nomer: 123456789\n",
      "Umur: 19 \n",
      "\n"
     ]
    }
   ],
   "source": [
    "from datetime import datetime\n",
    "sekarang = datetime.now()\n",
    "tahun = sekarang.year\n",
    "bulan = sekarang.month\n",
    "hari = sekarang.day\n",
    "\n",
    "class Pegawai:\n",
    "    def __init__(self,no,n,tl,bl,th):\n",
    "        self.nomer = no\n",
    "        self.nama = n\n",
    "        self.tanggallahir = tl\n",
    "        self.bulanlahir = bl\n",
    "        self.tahunlahir = th\n",
    "    def menghitungumur(self):\n",
    "        self.umur = tahun - self.tahunlahir\n",
    "        if(self.bulanlahir == bulan):\n",
    "            if(self.tanggallahir > hari):\n",
    "                self.umur = self.umur - 1\n",
    "        elif(self.bulanlahir > bulan) :\n",
    "            self.umur = self.umur - 1\n",
    "            \n",
    "    def tampilkanhasil(self):\n",
    "        print(\"Nama :\",self.nama)\n",
    "        print(\"Nomer:\",self.nomer)\n",
    "        print(\"Umur:\",self.umur,\"\\n\")\n",
    "\n",
    "p1 = Pegawai(\"123456789\",\"Irwan\",24,2,2000)\n",
    "p1.menghitungumur()\n",
    "p1.tampilkanhasil()"
   ]
  },
  {
   "cell_type": "code",
   "execution_count": 6,
   "metadata": {},
   "outputs": [
    {
     "name": "stdout",
     "output_type": "stream",
     "text": [
      "Rizky Irwan Pratama tidak mendapatkan bidikmisi\n",
      "Rizky Irwan Pratama , 180441100073 , 2.0\n"
     ]
    }
   ],
   "source": [
    "class Mahasiswa:\n",
    "    def __init__(self,nama,nim,ipk):\n",
    "        self.nama = nama\n",
    "        self.nim = nim\n",
    "        self.ipk = ipk\n",
    "    def tampilkan(self):\n",
    "        if(self.ipk<3):\n",
    "            print(self.nama,\"tidak mendapatkan bidikmisi\")\n",
    "        else:\n",
    "            print(\"Anda layak Bidikmisi\")\n",
    "    def tampilkandatamahasiswa(self):\n",
    "        print(self.nama,\",\",self.nim,\",\",self.ipk)\n",
    "        \n",
    "m1 = Mahasiswa(\"Rizky Irwan Pratama\",\"180441100073\",2.00)\n",
    "m1.tampilkan()\n",
    "m1.tampilkandatamahasiswa()"
   ]
  },
  {
   "cell_type": "markdown",
   "metadata": {},
   "source": [
    "# Inheritance"
   ]
  },
  {
   "attachments": {},
   "cell_type": "markdown",
   "metadata": {},
   "source": [
    "Inheritance adalah konsep pemrograman sebuah class yang dapat 'menurunkan' property dan method yang dimilikinya kepada class lain.\n",
    "Class induk mewariskan kepada kelas anak.\n",
    "Semua class induk dapat diwariskan ke class anaknya.\n",
    "\n",
    "<img scr=\"baru/2.png\">\n"
   ]
  },
  {
   "cell_type": "code",
   "execution_count": 8,
   "metadata": {},
   "outputs": [
    {
     "name": "stdout",
     "output_type": "stream",
     "text": [
      "name =irwan\n",
      "name =diki\n",
      "Programmer Python\n"
     ]
    }
   ],
   "source": [
    "#Contoh Program :\n",
    "class User:\n",
    "        name = \"\"\n",
    "        def __init__(self,name):\n",
    "            self.name = name\n",
    "        def printName(self) :\n",
    "            print(\"name =\" + self.name)            \n",
    "class Programmer(User):\n",
    "        def __init__(self,name):\n",
    "            self.name = name\n",
    "        def doPython(self):\n",
    "            print(\"Programmer Python\")\n",
    "irwan = User(\"irwan\")\n",
    "irwan.printName()\n",
    "diki = Programmer(\"diki\")\n",
    "diki.printName()\n",
    "diki.doPython()"
   ]
  },
  {
   "cell_type": "markdown",
   "metadata": {},
   "source": [
    "# Type of Inheritance"
   ]
  },
  {
   "cell_type": "markdown",
   "metadata": {},
   "source": [
    "Di dalam type inheritance ada beberapa type seperti : \n",
    "1. Default \n",
    "2. Overriding \n",
    "3. Super \n",
    "4. Multiple inheritance"
   ]
  },
  {
   "cell_type": "code",
   "execution_count": 16,
   "metadata": {},
   "outputs": [
    {
     "name": "stdout",
     "output_type": "stream",
     "text": [
      "Terryfish\n",
      "bone\n",
      "false\n",
      "The fish is swimming\n",
      "The fish can swim backwards\n",
      "caseyfish\n",
      "The fish is swimming\n",
      "The clownfish is coexisting with sea anemone\n"
     ]
    }
   ],
   "source": [
    "class fish:\n",
    "    def __init__(self,first_name,last_name=\"fish\",skeleton=\"bone\",eyelids=\"false\"):\n",
    "        self.first_name = first_name\n",
    "        self.last_name = last_name\n",
    "        self.skeleton = skeleton\n",
    "        self.eyelids = eyelids\n",
    "    def swim(self):\n",
    "        print(\"The fish is swimming\")\n",
    "    def swim_backwards(self):\n",
    "        print(\"The fish can swim backwards\")\n",
    "\n",
    "#default yaitu semua atribut class induk diwariskan\n",
    "class trout(fish):\n",
    "    pass\n",
    "class clownfish(fish):\n",
    "    def live_with_anemone(self):\n",
    "        print(\"The clownfish is coexisting with sea anemone\")\n",
    "class trout(fish) :\n",
    "    pass\n",
    "\n",
    "#override property: isi dari metod dan property diganti nilainya\n",
    "class Shark(fish):\n",
    "    def __init__(self,first_name,last_name=\"Shark\",skeleton=\"cartilage\",eyelids=\"true\"):\n",
    "        self.first_name = first_name\n",
    "        self.last_name = last_name\n",
    "        self.skeleton = skeleton\n",
    "        self.eyelids = eyelids\n",
    "    def swim_backwards(self):\n",
    "        print(\"The Shark cannot swim backwards,but can simk backwards\")\n",
    "        \n",
    "#super property yaitu menambahkan atribut yang unik pada class anak dan method lainnya sama seperti induk\n",
    "class Trout(fish):\n",
    "    def __init__(self,water,first_name,last_name,skeleton,eyelids):\n",
    "        self.water=water\n",
    "        fish.__init__(self,first_name,last_name,skeleton,eyelids)\n",
    "terry=Trout(\"freshwater\",\"shark\",\"fish\",\"no bone\",\"true\")\n",
    "terry = trout(\"Terry\")\n",
    "print(terry.first_name +\"\"+terry.last_name)\n",
    "print(terry.skeleton)\n",
    "print(terry.eyelids)\n",
    "terry.swim()\n",
    "terry.swim_backwards()\n",
    "casey = clownfish(\"casey\")\n",
    "print(casey.first_name + \"\" + casey.last_name)\n",
    "casey.swim()\n",
    "casey.live_with_anemone()"
   ]
  },
  {
   "cell_type": "code",
   "execution_count": 17,
   "metadata": {},
   "outputs": [
    {
     "name": "stdout",
     "output_type": "stream",
     "text": [
      "Coral lives in a community\n",
      "The anemone is protecting the clownfish\n"
     ]
    }
   ],
   "source": [
    "#Multiple Inherintance\n",
    "class Coral:\n",
    "    def community(self):\n",
    "        print(\"Coral lives in a community\")\n",
    "class Anemone:\n",
    "    def protect_clownfish(self):\n",
    "        print(\"The anemone is protecting the clownfish\")\n",
    "class CoralReef(Coral,Anemone):\n",
    "    pass\n",
    "great_barrier= CoralReef()\n",
    "great_barrier.community()\n",
    "great_barrier.protect_clownfish()"
   ]
  },
  {
   "cell_type": "markdown",
   "metadata": {},
   "source": [
    "# Polymorphisme"
   ]
  },
  {
   "attachments": {},
   "cell_type": "markdown",
   "metadata": {},
   "source": [
    "Polymorphisme adalah suatu object dapat memiliki berbagai bentuk, sebagai object dari class sendiri atau object dari superclassnya. Ada 2 polymorphisme, yaitu :\n",
    "\n",
    "1. Polymorphisme with a Function\n",
    "2. Polymorphisme with Class Methods\n",
    "<img scr=\"baru/3.png\">\n"
   ]
  },
  {
   "cell_type": "code",
   "execution_count": 29,
   "metadata": {},
   "outputs": [
    {
     "name": "stdout",
     "output_type": "stream",
     "text": [
      "the shark skelaton is mode of cartilago\n",
      "the clowfish skelaton is mode of bone\n",
      "the shark is swimming\n",
      "the clown fish is swimming\n"
     ]
    }
   ],
   "source": [
    "#Contoh Program :\n",
    "\n",
    "#1. Polymorphisme with a Function\n",
    "\n",
    "class shark():\n",
    "    def swim(self):\n",
    "        print(\"the shark is swimming\")\n",
    "    def swim_backwards(self):\n",
    "        print(\"the shark cannot swim backwars,but can sink backward\")\n",
    "    def skalaton(self):\n",
    "        print(\"the shark skelaton is mode of cartilago\")\n",
    "\n",
    "class clownfish():\n",
    "    def swim(self):\n",
    "        print(\"the clown fish is swimming\")\n",
    "    def swim_backwards(self):\n",
    "        print(\"the clowfish can swim backwars,but can sink backward\")\n",
    "    def skalaton(self):\n",
    "        print(\"the clowfish skelaton is mode of bone\")\n",
    "abc=shark()\n",
    "abc.skalaton()\n",
    "\n",
    "easy=clownfish()\n",
    "easy.skalaton()\n",
    "\n",
    "def in_the_pacific(fish):\n",
    "    fish.swim()\n",
    "\n",
    "in_the_pacific(abc)\n",
    "in_the_pacific(easy)"
   ]
  },
  {
   "cell_type": "code",
   "execution_count": 28,
   "metadata": {},
   "outputs": [
    {
     "name": "stdout",
     "output_type": "stream",
     "text": [
      "the clamfish skelaton is mode of bone\n",
      "the shark is swimming\n",
      "the shark cannot swim backwars,but can sink backward\n",
      "the shark skelaton is mode of cartilago\n",
      "the clown fish is swimming\n",
      "the clownfish can swim backwars,but can sink backward\n",
      "the clownfish skelaton is mode of bone\n"
     ]
    }
   ],
   "source": [
    "#2. Polymorphisme with Class Methods\n",
    "\n",
    "class shark():\n",
    "    def swim(self):\n",
    "        print(\"the shark is swimming\")\n",
    "    def swim_backwards(self):\n",
    "        print(\"the shark cannot swim backwars,but can sink backward\")\n",
    "    def skeleton(self):\n",
    "        print(\"the shark skelaton is mode of cartilago\")\n",
    "\n",
    "class clownfish():\n",
    "    def swim(self):\n",
    "        print(\"the clown fish is swimming\")\n",
    "    def swim_backwards(self):\n",
    "        print(\"the clownfish can swim backwars,but can sink backward\")\n",
    "    def skeleton(self):\n",
    "        print(\"the clownfish skelaton is mode of bone\")\n",
    "sammy=shark()\n",
    "casey=clownfish()\n",
    "\n",
    "easy=clamfish()\n",
    "easy.skalaton()\n",
    "for fish in (sammy,casey):\n",
    "    fish.swim()\n",
    "    fish.swim_backwards()\n",
    "    fish.skeleton()"
   ]
  }
 ],
 "metadata": {
  "kernelspec": {
   "display_name": "Python 3",
   "language": "python",
   "name": "python3"
  },
  "language_info": {
   "codemirror_mode": {
    "name": "ipython",
    "version": 3
   },
   "file_extension": ".py",
   "mimetype": "text/x-python",
   "name": "python",
   "nbconvert_exporter": "python",
   "pygments_lexer": "ipython3",
   "version": "3.7.1"
  }
 },
 "nbformat": 4,
 "nbformat_minor": 2
}
